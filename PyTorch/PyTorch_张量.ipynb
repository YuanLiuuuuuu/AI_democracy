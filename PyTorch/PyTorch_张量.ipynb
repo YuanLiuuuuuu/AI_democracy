{
  "cells": [
    {
      "cell_type": "markdown",
      "metadata": {
        "id": "rKFWJARjqn3j"
      },
      "source": [
        "# 张量 (Tensor)\n",
        "**张量**其实是一种类似于矩阵和数组的的数据结构。在 [PyTorch](https://pytorch.org/) 中，在很多地方我们都会使用到张量，例如我们会用张量去存储一个模型的输入和输出，除此之外，我们也会将模型的参数用张量的形式存储下来。\n",
        "\n",
        "张量和 [Numpy](https://numpy.org/) 中的 ndarrays 非常类似，最主要的不同之处就是我们可以利用很多特殊的硬件，例如 GPU，来加速张量的运算。同时，Numpy 的 ndarrays 可以做到和 PyTorch 中的张量做到无缝快速转换，因为他们使用的是同一份内存，无需耗时的拷贝。除此之外，相较于 ndarray，PyTorch 中的张量实现了自动求导特性（后面我们会详细讲述）。其实，只要你以前接触过 Numpy 的 ndarray，PyTorch 中的张量便可以快速上手。\n"
      ]
    },
    {
      "cell_type": "code",
      "execution_count": 21,
      "metadata": {
        "id": "h7WJvJXaq9Qv"
      },
      "outputs": [],
      "source": [
        "import torch\n",
        "import numpy"
      ]
    },
    {
      "cell_type": "markdown",
      "metadata": {
        "id": "sm2L0xf8uSY4"
      },
      "source": [
        "## 创建张量"
      ]
    },
    {
      "cell_type": "markdown",
      "metadata": {
        "id": "T6VpiLOkujiF"
      },
      "source": [
        "**利用数组进行创建**"
      ]
    },
    {
      "cell_type": "code",
      "execution_count": 22,
      "metadata": {
        "id": "GOsU5Dd_uRf8",
        "colab": {
          "base_uri": "https://localhost:8080/"
        },
        "outputId": "4831a557-4c66-4176-8846-8e803a2ab3aa"
      },
      "outputs": [
        {
          "output_type": "stream",
          "name": "stdout",
          "text": [
            "tensor([[1, 2],\n",
            "        [3, 4]])\n"
          ]
        }
      ],
      "source": [
        "data = [[1, 2], [3, 4]]\n",
        "data_tensor = torch.tensor(data)\n",
        "print(data_tensor)"
      ]
    },
    {
      "cell_type": "markdown",
      "metadata": {
        "id": "UaQii2rcu4R_"
      },
      "source": [
        "**利用 Numpy ndarray 进行创建**"
      ]
    },
    {
      "cell_type": "code",
      "execution_count": 3,
      "metadata": {
        "id": "oLLp0v_Su3wr",
        "colab": {
          "base_uri": "https://localhost:8080/"
        },
        "outputId": "73e3e38f-88f5-489c-a879-0f8f7d9cc4e5"
      },
      "outputs": [
        {
          "output_type": "stream",
          "name": "stdout",
          "text": [
            "tensor([[1, 2],\n",
            "        [3, 4]])\n"
          ]
        }
      ],
      "source": [
        "data = [[1, 2], [3, 4]]\n",
        "data_numpy = numpy.array(data)\n",
        "data_tensor = torch.from_numpy(data_numpy)\n",
        "print(data_tensor)"
      ]
    },
    {
      "cell_type": "markdown",
      "metadata": {
        "id": "RyA9gWilvb4l"
      },
      "source": [
        "**利用其它 Tensor 进行创建**"
      ]
    },
    {
      "cell_type": "code",
      "execution_count": 23,
      "metadata": {
        "id": "D_kpckQRvi9W",
        "colab": {
          "base_uri": "https://localhost:8080/"
        },
        "outputId": "0c912240-1472-42c5-c305-95c61b063c57"
      },
      "outputs": [
        {
          "output_type": "stream",
          "name": "stdout",
          "text": [
            "data_tensor is tensor([[1, 2],\n",
            "        [3, 4]])\n",
            "ones_tensor is tensor([[1, 1],\n",
            "        [1, 1]])\n",
            "random_tensor is tensor([[0.6136, 0.9046],\n",
            "        [0.8592, 0.9953]])\n"
          ]
        }
      ],
      "source": [
        "data = [[1, 2], [3, 4]]\n",
        "data_tensor = torch.tensor(data)\n",
        "print(f\"data_tensor is {data_tensor}\")\n",
        "ones_tensor = torch.ones_like(data_tensor)\n",
        "print(f\"ones_tensor is {ones_tensor}\")\n",
        "random_tensor = torch.rand_like(data_tensor, dtype=torch.float)\n",
        "print(f\"random_tensor is {random_tensor}\")"
      ]
    },
    {
      "cell_type": "markdown",
      "metadata": {
        "id": "zfDQOnQHwjDQ"
      },
      "source": [
        "**指定形状进行创建**"
      ]
    },
    {
      "cell_type": "code",
      "execution_count": 24,
      "metadata": {
        "id": "MzQ2y_PXwxbI",
        "colab": {
          "base_uri": "https://localhost:8080/"
        },
        "outputId": "742b3f5b-350a-4699-fc00-45a7ab367a4e"
      },
      "outputs": [
        {
          "output_type": "stream",
          "name": "stdout",
          "text": [
            "random_tensor is tensor([[0.8660, 0.8976],\n",
            "        [0.9659, 0.6104],\n",
            "        [0.7552, 0.8644]])\n",
            "ones_tensor is tensor([[1., 1.],\n",
            "        [1., 1.],\n",
            "        [1., 1.]])\n",
            "zeros_tensor is tensor([[0., 0.],\n",
            "        [0., 0.],\n",
            "        [0., 0.]])\n"
          ]
        }
      ],
      "source": [
        "shape = (3,2,)\n",
        "random_tensor = torch.rand(shape)\n",
        "ones_tensor = torch.ones(shape)\n",
        "zeros_tensor = torch.zeros(shape)\n",
        "\n",
        "print(f\"random_tensor is {random_tensor}\")\n",
        "print(f\"ones_tensor is {ones_tensor}\")\n",
        "print(f\"zeros_tensor is {zeros_tensor}\")"
      ]
    },
    {
      "cell_type": "markdown",
      "metadata": {
        "id": "Zar5tY7HxP19"
      },
      "source": [
        "## Tensor 的特性\n",
        "\n",
        "Tensor 拥有许多属性，例如形状，数据类型，和位于的硬件"
      ]
    },
    {
      "cell_type": "code",
      "execution_count": 6,
      "metadata": {
        "id": "WHOo1MRyyK67",
        "colab": {
          "base_uri": "https://localhost:8080/"
        },
        "outputId": "c44445ad-1775-41cb-d978-9122f747796f"
      },
      "outputs": [
        {
          "output_type": "stream",
          "name": "stdout",
          "text": [
            "Shape of tensor: torch.Size([3, 4])\n",
            "Datatype of tensor: torch.float32\n",
            "Device tensor is stored on: cpu\n"
          ]
        }
      ],
      "source": [
        "tensor = torch.rand(3,4)\n",
        "\n",
        "print(f\"Shape of tensor: {tensor.shape}\")\n",
        "print(f\"Datatype of tensor: {tensor.dtype}\")\n",
        "print(f\"Device tensor is stored on: {tensor.device}\")"
      ]
    },
    {
      "cell_type": "markdown",
      "metadata": {
        "id": "ndL5v9_Py5py"
      },
      "source": [
        "## 对 Tensor 进行操作\n",
        "\n",
        "PyTorch 的 Tensor 支持上百种操作，例如算术运算，矩阵运算等。每种运算既可以在 CPU 上进行，也可以在 GPU 上进行。默认情况下，Tensor 位于 CPU 上，其进行的各种运算操作也是在 CPU 上。"
      ]
    },
    {
      "cell_type": "code",
      "execution_count": 7,
      "metadata": {
        "colab": {
          "base_uri": "https://localhost:8080/"
        },
        "id": "4rNv_skpzAXV",
        "outputId": "6dc4c55e-8710-4e20-815c-d722ae862215"
      },
      "outputs": [
        {
          "output_type": "stream",
          "name": "stdout",
          "text": [
            "cpu\n",
            "cuda:0\n"
          ]
        }
      ],
      "source": [
        "tensor = torch.rand(3,4)\n",
        "print(f\"{tensor.device}\")\n",
        "tensor = tensor.to('cuda')\n",
        "print(f\"{tensor.device}\")"
      ]
    },
    {
      "cell_type": "markdown",
      "source": [
        "索引和分片操作"
      ],
      "metadata": {
        "id": "uJVCltLwdE_D"
      }
    },
    {
      "cell_type": "code",
      "source": [
        "tensor = torch.ones(4, 4)\n",
        "print('First row: ', tensor[0])\n",
        "print('First column: ', tensor[:, 0])\n",
        "print('Last column:', tensor[:, -1])\n",
        "tensor[:,1] = 0\n",
        "print(tensor)"
      ],
      "metadata": {
        "colab": {
          "base_uri": "https://localhost:8080/"
        },
        "id": "Hgq1a9WCdVjf",
        "outputId": "2f6028a4-ce2e-4070-8619-13edaee45fca"
      },
      "execution_count": 25,
      "outputs": [
        {
          "output_type": "stream",
          "name": "stdout",
          "text": [
            "First row:  tensor([1., 1., 1., 1.])\n",
            "First column:  tensor([1., 1., 1., 1.])\n",
            "Last column: tensor([1., 1., 1., 1.])\n",
            "tensor([[1., 0., 1., 1.],\n",
            "        [1., 0., 1., 1.],\n",
            "        [1., 0., 1., 1.],\n",
            "        [1., 0., 1., 1.]])\n"
          ]
        }
      ]
    },
    {
      "cell_type": "markdown",
      "source": [
        "拼接张量"
      ],
      "metadata": {
        "id": "eQt6euHreR80"
      }
    },
    {
      "cell_type": "code",
      "source": [
        "print(f'Shape of tensor before concatenation: {tensor.shape}')\n",
        "cat_tensor = torch.cat([tensor, tensor, tensor], dim=1)\n",
        "print(f'Shape of tensor after concatenation: {cat_tensor.shape}')"
      ],
      "metadata": {
        "colab": {
          "base_uri": "https://localhost:8080/"
        },
        "id": "CR4xqVjDeV2i",
        "outputId": "17bd355e-48a9-46d6-b4fa-458bf2a7d814"
      },
      "execution_count": 26,
      "outputs": [
        {
          "output_type": "stream",
          "name": "stdout",
          "text": [
            "Shape of tensor before concatenation: torch.Size([4, 4])\n",
            "Shape of tensor after concatenation: torch.Size([4, 12])\n"
          ]
        }
      ]
    },
    {
      "cell_type": "markdown",
      "source": [
        "运算操作"
      ],
      "metadata": {
        "id": "aX6vBmcWe-HY"
      }
    },
    {
      "cell_type": "code",
      "source": [
        "# This computes the matrix multiplication between two tensors. y1, y2, y3 will have the same value\n",
        "y1 = tensor @ tensor.T\n",
        "y2 = tensor.matmul(tensor.T)\n",
        "\n",
        "y3 = torch.rand_like(tensor)\n",
        "torch.matmul(tensor, tensor.T, out=y3)\n",
        "\n",
        "\n",
        "# This computes the element-wise product. z1, z2, z3 will have the same value\n",
        "z1 = tensor * tensor\n",
        "z2 = tensor.mul(tensor)\n",
        "\n",
        "z3 = torch.rand_like(tensor)\n",
        "torch.mul(tensor, tensor, out=z3)"
      ],
      "metadata": {
        "colab": {
          "base_uri": "https://localhost:8080/"
        },
        "id": "ASuEk1bke_fx",
        "outputId": "c8bfaf0a-b6f3-4879-aa01-e8616ab2b948"
      },
      "execution_count": 27,
      "outputs": [
        {
          "output_type": "execute_result",
          "data": {
            "text/plain": [
              "tensor([[1., 0., 1., 1.],\n",
              "        [1., 0., 1., 1.],\n",
              "        [1., 0., 1., 1.],\n",
              "        [1., 0., 1., 1.]])"
            ]
          },
          "metadata": {},
          "execution_count": 27
        }
      ]
    },
    {
      "cell_type": "markdown",
      "source": [
        "只有一个元素的张量可以直接转化为 Python 的数值类型"
      ],
      "metadata": {
        "id": "93POBXhEkCXG"
      }
    },
    {
      "cell_type": "code",
      "source": [
        "agg = tensor.sum()\n",
        "agg_item = agg.item()\n",
        "print(agg_item, type(agg_item))"
      ],
      "metadata": {
        "colab": {
          "base_uri": "https://localhost:8080/"
        },
        "id": "AMdxe1qHkKAL",
        "outputId": "632ee44b-fa8b-49b0-a475-7576cb532675"
      },
      "execution_count": 28,
      "outputs": [
        {
          "output_type": "stream",
          "name": "stdout",
          "text": [
            "12.0 <class 'float'>\n"
          ]
        }
      ]
    },
    {
      "cell_type": "markdown",
      "source": [
        "对张量进行 in-place 操作"
      ],
      "metadata": {
        "id": "kFXBFhLCkX5y"
      }
    },
    {
      "cell_type": "code",
      "source": [
        "print(tensor, \"\\n\")\n",
        "tensor.add_(5)\n",
        "print(tensor)"
      ],
      "metadata": {
        "colab": {
          "base_uri": "https://localhost:8080/"
        },
        "id": "HZRdOBHykiQW",
        "outputId": "6c911bde-ed7b-49af-dcaa-9184fc345f7f"
      },
      "execution_count": 29,
      "outputs": [
        {
          "output_type": "stream",
          "name": "stdout",
          "text": [
            "tensor([[1., 0., 1., 1.],\n",
            "        [1., 0., 1., 1.],\n",
            "        [1., 0., 1., 1.],\n",
            "        [1., 0., 1., 1.]]) \n",
            "\n",
            "tensor([[6., 5., 6., 6.],\n",
            "        [6., 5., 6., 6.],\n",
            "        [6., 5., 6., 6.],\n",
            "        [6., 5., 6., 6.]])\n"
          ]
        }
      ]
    },
    {
      "cell_type": "markdown",
      "source": [
        "## 和 Numpy 的联系"
      ],
      "metadata": {
        "id": "6WXNbmEPlX5D"
      }
    },
    {
      "cell_type": "markdown",
      "source": [
        "张量转换为 Numpy ndarray"
      ],
      "metadata": {
        "id": "O8-e6vDrlfSM"
      }
    },
    {
      "cell_type": "code",
      "source": [
        "t = torch.ones(5)\n",
        "print(f\"t: {t}\")\n",
        "n = t.numpy()\n",
        "print(f\"n: {n}\")"
      ],
      "metadata": {
        "colab": {
          "base_uri": "https://localhost:8080/"
        },
        "id": "t-oBn070laYO",
        "outputId": "4ddc1bed-0ffb-4d91-8455-af11138d4476"
      },
      "execution_count": 30,
      "outputs": [
        {
          "output_type": "stream",
          "name": "stdout",
          "text": [
            "t: tensor([1., 1., 1., 1., 1.])\n",
            "n: [1. 1. 1. 1. 1.]\n"
          ]
        }
      ]
    },
    {
      "cell_type": "markdown",
      "source": [
        "改变张量也将改变 Numpy ndarray"
      ],
      "metadata": {
        "id": "JrcLqP6Hlp_7"
      }
    },
    {
      "cell_type": "code",
      "source": [
        "t.add_(1)\n",
        "print(f\"t: {t}\")\n",
        "print(f\"n: {n}\")"
      ],
      "metadata": {
        "colab": {
          "base_uri": "https://localhost:8080/"
        },
        "id": "D8akpOsjlw63",
        "outputId": "a9e88f17-285b-4f46-cf99-f7745bd2968f"
      },
      "execution_count": 31,
      "outputs": [
        {
          "output_type": "stream",
          "name": "stdout",
          "text": [
            "t: tensor([2., 2., 2., 2., 2.])\n",
            "n: [2. 2. 2. 2. 2.]\n"
          ]
        }
      ]
    },
    {
      "cell_type": "markdown",
      "source": [
        "Numpy ndarray 转换为张量"
      ],
      "metadata": {
        "id": "TeNxPr24mn1M"
      }
    },
    {
      "cell_type": "code",
      "source": [
        "n = numpy.ones(5)\n",
        "t = torch.from_numpy(n)"
      ],
      "metadata": {
        "id": "IwWA8LWNmrq9"
      },
      "execution_count": 32,
      "outputs": []
    },
    {
      "cell_type": "markdown",
      "source": [
        "改变 Numpy ndarray 也将改变张量\n"
      ],
      "metadata": {
        "id": "Xr1uP3rlm-J4"
      }
    },
    {
      "cell_type": "code",
      "source": [
        "numpy.add(n, 1, out=n)\n",
        "print(f\"t: {t}\")\n",
        "print(f\"n: {n}\")"
      ],
      "metadata": {
        "colab": {
          "base_uri": "https://localhost:8080/"
        },
        "id": "_HkD5dI9m8H2",
        "outputId": "9cac9fcf-131c-4a33-93f6-147065ea733c"
      },
      "execution_count": 33,
      "outputs": [
        {
          "output_type": "stream",
          "name": "stdout",
          "text": [
            "t: tensor([2., 2., 2., 2., 2.], dtype=torch.float64)\n",
            "n: [2. 2. 2. 2. 2.]\n"
          ]
        }
      ]
    }
  ],
  "metadata": {
    "colab": {
      "name": "Pytorch基础教程-1.ipynb",
      "provenance": []
    },
    "kernelspec": {
      "display_name": "Python 3",
      "name": "python3"
    },
    "language_info": {
      "name": "python"
    },
    "accelerator": "GPU"
  },
  "nbformat": 4,
  "nbformat_minor": 0
}